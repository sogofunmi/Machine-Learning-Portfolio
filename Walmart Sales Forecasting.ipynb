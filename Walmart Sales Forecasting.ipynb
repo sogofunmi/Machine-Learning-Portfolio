{
 "cells": [
  {
   "cell_type": "markdown",
   "metadata": {},
   "source": [
    "# Machine Learning Project\n",
    "\n",
    "## Walmart Sales Forecasting System\n",
    "\n",
    "In this project, I will create a machine learning model that learns to forecast Walmart weekly sales for different stores. This is the first independent project undertaken and the dataset was downloaded from Kaggle. \n",
    "\n",
    "\n",
    "Scikit-learn will be used. \n",
    "\n",
    "### Implementation\n",
    "I started by importing the modules required for this project and loading in the data."
   ]
  },
  {
   "cell_type": "code",
   "execution_count": null,
   "metadata": {},
   "outputs": [],
   "source": [
    "#import the necessary libraries\n",
    "\n",
    "import pandas as pd\n",
    "import numpy as np\n",
    "import matplotlib.pyplot as plt\n",
    "import seaborn as sns\n",
    "from sklearn.model_selection import train_test_split\n",
    "from sklearn.preprocessing import MinMaxScaler\n",
    "from sklearn.linear_model import LinearRegression\n",
    "from sklearn.ensemble import RandomForestRegressor, GradientBoostingRegressor\n",
    "from sklearn.tree import DecisionTreeRegressor\n",
    "from sklearn.metrics import r2_score\n",
    "\n",
    "%matplotlib inline"
   ]
  },
  {
   "cell_type": "code",
   "execution_count": null,
   "metadata": {},
   "outputs": [],
   "source": [
    "train = pd.read_csv(\"train.csv\")\n",
    "stores = pd.read_csv(\"stores.csv\")\n",
    "features = pd.read_csv(\"features.csv\")"
   ]
  },
  {
   "cell_type": "code",
   "execution_count": null,
   "metadata": {},
   "outputs": [],
   "source": [
    "train.head()"
   ]
  },
  {
   "cell_type": "code",
   "execution_count": null,
   "metadata": {},
   "outputs": [],
   "source": [
    "new_data = pd.merge(features,train,on=[\"Date\",\"IsHoliday\",\"Store\"],how=\"inner\")\n",
    "train_data = pd.merge(stores,new_data,on=[\"Store\"],how=\"inner\")\n",
    "\n",
    "train_data.info()"
   ]
  },
  {
   "cell_type": "code",
   "execution_count": null,
   "metadata": {},
   "outputs": [],
   "source": [
    "sns.heatmap(train_data.isnull(),cbar=False,yticklabels=False,cmap=\"viridis\")"
   ]
  },
  {
   "cell_type": "code",
   "execution_count": null,
   "metadata": {},
   "outputs": [],
   "source": [
    "#fill in null values\n",
    "\n",
    "train_data.fillna(0,inplace=True)\n",
    "train_data[\"Temperature\"] = train_data[\"Temperature\"].replace([27.56], 43.89)"
   ]
  },
  {
   "cell_type": "code",
   "execution_count": null,
   "metadata": {},
   "outputs": [],
   "source": [
    "train_data.head()"
   ]
  },
  {
   "cell_type": "code",
   "execution_count": null,
   "metadata": {},
   "outputs": [],
   "source": [
    "sns.boxplot(\"Type\",\"Size\",data=train_data)"
   ]
  },
  {
   "cell_type": "code",
   "execution_count": null,
   "metadata": {},
   "outputs": [],
   "source": [
    "store_type = pd.get_dummies(train_data[\"Type\"])\n",
    "train_data.drop([\"Type\", 'MarkDown2', 'MarkDown4'],axis=1,inplace=True)\n",
    "train_data.head()"
   ]
  },
  {
   "cell_type": "code",
   "execution_count": null,
   "metadata": {},
   "outputs": [],
   "source": [
    "train_data = pd.concat([train_data,store_type],axis=1)\n",
    "\n",
    "train_data[\"Date\"] = pd.to_datetime(train_data[\"Date\"])\n",
    "train_data[\"Month\"] = train_data[\"Date\"].dt.month\n",
    "\n",
    "train_data.drop([\"Date\"],axis=1,inplace=True)\n",
    "\n",
    "train_data.head()"
   ]
  },
  {
   "cell_type": "code",
   "execution_count": null,
   "metadata": {},
   "outputs": [],
   "source": [
    "#show correlation of dataset\n",
    "\n",
    "plt.figure(figsize=(15,10))\n",
    "sns.heatmap(train_data.corr(),annot = True)"
   ]
  },
  {
   "cell_type": "code",
   "execution_count": null,
   "metadata": {},
   "outputs": [],
   "source": [
    "#scale train data\n",
    "\n",
    "scaler = MinMaxScaler()\n",
    "scaler.fit(train_data.drop([\"Weekly_Sales\"],axis=1))\n",
    "scaled_features = scaler.transform(train_data.drop([\"Weekly_Sales\"],axis=1))\n",
    "\n",
    "scaled_features = pd.DataFrame(scaled_features,columns=[['Store', 'Size', 'Temperature', 'Fuel_Price', 'MarkDown1', \n",
    "                                                         'MarkDown3','MarkDown5',\"CPI\",\"Unemployment\",\n",
    "                                                         'IsHoliday', 'Dept', 'A', 'B', 'C', 'Month']])\n",
    "\n",
    "lin_model = LinearRegression()\n",
    "rfc = RandomForestRegressor()\n",
    "gbr = GradientBoostingRegressor()\n",
    "dtree = DecisionTreeRegressor()\n",
    "\n",
    "models = [lin_model, rfc, gbr, dtree]"
   ]
  },
  {
   "cell_type": "code",
   "execution_count": null,
   "metadata": {},
   "outputs": [],
   "source": [
    "X = scaled_features\n",
    "y = train_data[\"Weekly_Sales\"]\n",
    "scaled_features.head()"
   ]
  },
  {
   "cell_type": "code",
   "execution_count": null,
   "metadata": {},
   "outputs": [],
   "source": [
    "X_train, X_val, y_train, y_val = train_test_split(X, y, test_size=0.3, random_state=42)"
   ]
  },
  {
   "cell_type": "code",
   "execution_count": null,
   "metadata": {},
   "outputs": [],
   "source": [
    "#train data \n",
    "\n",
    "for model in models:\n",
    "    model.fit(X_train, y_train)\n",
    "    predictions = model.predict(X_val)\n",
    "    print(r2_score(y_val,predictions))"
   ]
  },
  {
   "cell_type": "markdown",
   "metadata": {},
   "source": [
    "The Random Forest Regressor had the highest regression score, so I will use it on our test data. "
   ]
  },
  {
   "cell_type": "code",
   "execution_count": null,
   "metadata": {},
   "outputs": [],
   "source": [
    "#load in test data, fill in null values\n",
    "\n",
    "test = pd.read_csv(\"test.csv\")\n",
    "\n",
    "data = pd.merge(features,test,how=\"inner\",on=[\"Date\",\"IsHoliday\",\"Store\"])\n",
    "test_data = pd.merge(stores,data,on=[\"Store\"],how=\"inner\")\n",
    "\n",
    "store_type = pd.get_dummies(test_data[\"Type\"])\n",
    "test_data = pd.concat([test_data,store_type],axis=1)\n",
    "test_data.drop([\"Type\",\"MarkDown2\",\"MarkDown4\"],axis=1,inplace=True)\n",
    "\n",
    "test_data[\"Date\"] = pd.to_datetime(test_data[\"Date\"])\n",
    "test_data[\"Month\"] = test_data[\"Date\"].dt.month\n",
    "test_date = test_data[\"Date\"]\n",
    "test_data.drop([\"Date\"],axis=1,inplace=True)\n",
    "\n",
    "test_data.fillna(0,inplace=True)\n",
    "\n",
    "#scale test data\n",
    "\n",
    "scaler = MinMaxScaler()\n",
    "scaler.fit(test_data)\n",
    "scaled_features = scaler.transform(test_data)\n",
    "\n",
    "scaled_features = pd.DataFrame(scaled_features,columns=[['Store', 'Size', 'Temperature', 'Fuel_Price', 'MarkDown1', \n",
    "                                                         'MarkDown3','MarkDown5',\"CPI\",\"Unemployment\",\n",
    "                                                         'IsHoliday', 'Dept', 'A', 'B', 'C', 'Month']])\n"
   ]
  },
  {
   "cell_type": "code",
   "execution_count": null,
   "metadata": {},
   "outputs": [],
   "source": [
    "pred_i = rfc.predict(scaled_features)"
   ]
  },
  {
   "cell_type": "code",
   "execution_count": null,
   "metadata": {},
   "outputs": [],
   "source": [
    "#creating output file and matching it to sampleSubmission.csv\n",
    "\n",
    "test_data[\"weeklySales\"] = pred_i\n",
    "test_data[\"Date\"] = test_date\n",
    "test_data[\"id\"] = test_data[\"Store\"].astype(str) + \"_\" + test_data[\"Dept\"].astype(str) + \"_\" + test_data[\"Date\"].astype(str)\n",
    "\n",
    "output = pd.DataFrame(test_data[[\"id\",\"weeklySales\"]],columns=[\"id\",\"weeklySales\"])\n",
    "output.to_csv(\"my_output.csv\",index=False)"
   ]
  }
 ],
 "metadata": {
  "kernelspec": {
   "display_name": "Python 3",
   "language": "python",
   "name": "python3"
  },
  "language_info": {
   "codemirror_mode": {
    "name": "ipython",
    "version": 3
   },
   "file_extension": ".py",
   "mimetype": "text/x-python",
   "name": "python",
   "nbconvert_exporter": "python",
   "pygments_lexer": "ipython3",
   "version": "3.7.6"
  }
 },
 "nbformat": 4,
 "nbformat_minor": 4
}
